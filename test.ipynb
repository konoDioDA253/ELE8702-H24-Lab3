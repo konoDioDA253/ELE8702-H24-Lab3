{
 "cells": [
  {
   "cell_type": "code",
   "execution_count": 4,
   "metadata": {},
   "outputs": [],
   "source": [
    "import sys\n",
    "import yaml \n",
    "from pathloss_3gpp_eq7 import *"
   ]
  },
  {
   "cell_type": "code",
   "execution_count": 3,
   "metadata": {},
   "outputs": [],
   "source": [
    "def get_from_dict(key, data, res=None, curr_level = 1, min_level = 1):\n",
    "    \"\"\"Fonction qui retourne la valeur de n'importe quel clé du dictionnaire\n",
    "       key: clé associé à la valeur recherchée\n",
    "       data: dictionnaire dans lequel il faut chercher\n",
    "       les autres sont des paramètres par défaut qu'il ne faut pas toucher\"\"\"\n",
    "    if res:\n",
    "        return res\n",
    "    else:\n",
    "        # data IS a dictionary\n",
    "        for k, v in data.items():\n",
    "            if k == key and curr_level >= min_level:\n",
    "                #print(f\"return data[k] = {data[k]} k = {k}\")\n",
    "                return data[k]\n",
    "            if type(v) is dict:\n",
    "                level = curr_level + 1\n",
    "                res = get_from_dict(key, v, res, level, min_level)\n",
    "    return res "
   ]
  },
  {
   "cell_type": "code",
   "execution_count": 3,
   "metadata": {},
   "outputs": [],
   "source": [
    "# Fonction verifiant la présence d'un string dans un fichier YAML\n",
    "# Retourne True si le string est présent et False sinon\n",
    "def check_string_presence_in_yaml(string_to_check, yaml_data):\n",
    "    for device_type, devices in yaml_data.items():\n",
    "        for device_name, device_info in devices.items():\n",
    "            if string_to_check == device_name:\n",
    "                return True\n",
    "    return False\n",
    "\n",
    "def ERROR(msg , code = 1):\n",
    "    print(\"\\n\\n\\nERROR\\nPROGRAM STOPPED!!!\\n\")\n",
    "    if msg:\n",
    "        print(msg)\n",
    "    print(f\"\\n\\texit code = {code}\\n\\n\\t\\n\")\n",
    "    sys.exit(code)"
   ]
  },
  {
   "cell_type": "code",
   "execution_count": null,
   "metadata": {},
   "outputs": [],
   "source": []
  },
  {
   "cell_type": "code",
   "execution_count": 20,
   "metadata": {},
   "outputs": [],
   "source": [
    "import sys\n",
    "import yaml \n",
    "fichier = \"lab2_eq7_cas.yaml\"\n",
    "with open(fichier,\"r\" ) as file:\n",
    "    data= yaml.load(file, Loader=yaml. FullLoader)\n",
    "\n",
    "    \n",
    "# next(iter(data))"
   ]
  },
  {
   "cell_type": "code",
   "execution_count": 24,
   "metadata": {},
   "outputs": [
    {
     "name": "stdout",
     "output_type": "stream",
     "text": [
      "Warning: The string \"rMa\" does not match the expected format (first two characters should be uppercase, last character lowercase).\n",
      "\n"
     ]
    }
   ],
   "source": [
    "string_extrait = get_from_dict('read', get_from_dict('VISIBILITY', data))\n",
    "string_extrait = get_from_dict('scenario', data)\n",
    "import re\n",
    "\n",
    "def check_string_format(string):\n",
    "    if string[0].isupper() and string[1].isupper() and string[-1].islower():\n",
    "        print(\"The given string format is valid.\")\n",
    "    else:\n",
    "        warning_message = 'Warning: The string \"{}\" does not match the expected format (first two characters should be uppercase, last character lowercase).\\n'\n",
    "        print(warning_message.format(string))\n",
    "\n",
    "# Example usage\n",
    "scenario = get_from_dict('scenario', data)\n",
    "check_string_format(scenario)\n"
   ]
  },
  {
   "cell_type": "code",
   "execution_count": null,
   "metadata": {},
   "outputs": [],
   "source": [
    "rma_nlos()"
   ]
  },
  {
   "cell_type": "code",
   "execution_count": 12,
   "metadata": {},
   "outputs": [
    {
     "name": "stdout",
     "output_type": "stream",
     "text": [
      "WARNING : la distance entre l'UE 14 et l'antenne 8 est plus grande que 5 km.\n",
      "Nous considerons un pathloss valant INFINI entre ces deux equipements\n",
      "WARNING : la distance entre l'UE 14 et l'antenne 8 est plus grande que 5 km.\n",
      "Nous considerons un pathloss valant INFINI entre ces deux equipements\n",
      "\n",
      "2\n"
     ]
    }
   ],
   "source": [
    "s = \"\"\"WARNING : la distance entre l'UE 14 et l'antenne 8 est plus grande que 5 km.\n",
    "Nous considerons un pathloss valant INFINI entre ces deux equipements\n",
    "WARNING : la distance entre l'UE 14 et l'antenne 8 est plus grande que 5 km.\n",
    "Nous considerons un pathloss valant INFINI entre ces deux equipements\n",
    "\"\"\"\n",
    "count = s.count(\"WARNING\")\n",
    "\n",
    "print(s)\n",
    "print(count)"
   ]
  },
  {
   "cell_type": "code",
   "execution_count": 70,
   "metadata": {},
   "outputs": [],
   "source": [
    "def check_coord_files_mode(data):\n",
    "    nom_du_fichier = \"\"\n",
    "    \n",
    "    coord_files_mode = get_from_dict(\"COORD_FILES\", data)\n",
    "    if coord_files_mode:\n",
    "        if 'read' in coord_files_mode.keys() and 'write' not in coord_files_mode.keys():\n",
    "            mode = True\n",
    "            nom_du_fichier = get_from_dict(\"read\", data)\n",
    "            return nom_du_fichier, mode\n",
    "            \n",
    "        elif 'write' in coord_files_mode.keys() and 'read' not in coord_files_mode.keys():\n",
    "            mode = False\n",
    "            nom_du_fichier = get_from_dict(\"write\", data)\n",
    "            return nom_du_fichier, mode\n",
    "            \n",
    "    else:\n",
    "        ERROR(\"La clé COORD_FILES n'est pas définie.\")\n",
    "    "
   ]
  },
  {
   "cell_type": "code",
   "execution_count": 71,
   "metadata": {},
   "outputs": [
    {
     "data": {
      "text/plain": [
       "('coords_lab2_eq7.txt', True)"
      ]
     },
     "execution_count": 71,
     "metadata": {},
     "output_type": "execute_result"
    }
   ],
   "source": [
    "check_coord_files_mode(data)"
   ]
  },
  {
   "cell_type": "code",
   "execution_count": 21,
   "metadata": {},
   "outputs": [
    {
     "data": {
      "text/plain": [
       "{'model': 'okumura', 'scenario': 'urban_large'}"
      ]
     },
     "execution_count": 21,
     "metadata": {},
     "output_type": "execute_result"
    }
   ],
   "source": [
    "x= etude_path_loss[\"PATHLOSS\"]\n",
    "x"
   ]
  },
  {
   "cell_type": "code",
   "execution_count": 12,
   "metadata": {},
   "outputs": [],
   "source": [
    "antenna1= x[\"Antenna1\"]"
   ]
  },
  {
   "cell_type": "code",
   "execution_count": 13,
   "metadata": {},
   "outputs": [
    {
     "data": {
      "text/plain": [
       "{'number': 25}"
      ]
     },
     "execution_count": 13,
     "metadata": {},
     "output_type": "execute_result"
    }
   ],
   "source": [
    "antenna1"
   ]
  },
  {
   "cell_type": "code",
   "execution_count": 14,
   "metadata": {},
   "outputs": [],
   "source": [
    "n = antenna1[\"number\"]\n"
   ]
  },
  {
   "cell_type": "code",
   "execution_count": 57,
   "metadata": {},
   "outputs": [
    {
     "name": "stdout",
     "output_type": "stream",
     "text": [
      "\n",
      "\n",
      "\n",
      "ERROR\n",
      "PROGRAM STOPPED!!!\n",
      "\n",
      "L'identifiant de l'antenne dans le fichier 'coords_lab2_eq7.txt' n'est pas incrémenté correctement: antenna\t24\tAntenna4\t3.5\t5.999999999999999\n",
      "\n",
      "\texit code = 1\n",
      "\n",
      "\t\n",
      "\n"
     ]
    },
    {
     "ename": "SystemExit",
     "evalue": "1",
     "output_type": "error",
     "traceback": [
      "An exception has occurred, use %tb to see the full traceback.\n",
      "\u001b[0;31mSystemExit\u001b[0m\u001b[0;31m:\u001b[0m 1\n"
     ]
    }
   ],
   "source": [
    "def sanity_check_coordinates_file(filename):\n",
    "    with open(filename, 'r') as file:\n",
    "        lines = file.readlines()\n",
    "\n",
    "        id_antenna = -1\n",
    "        id_ue = -1\n",
    "\n",
    "        for line in lines:\n",
    "            # Vérifier s'il y a des lignes vides\n",
    "            if line.strip() == '':\n",
    "                ERROR(f\"Le fichier '{filename}' contient des lignes vides.\")\n",
    "\n",
    "            # Vérifier le nombre de colonnes\n",
    "            parts = line.strip().split()\n",
    "            if parts[0] == 'antenna':\n",
    "                # Vérifier le format des lignes antenna\n",
    "                if len(parts) != 5:\n",
    "                    ERROR(f\"Le format de la ligne antenna dans le fichier '{filename}' est incorrect. Il doit y avoir 5 colonnes : string chiffre string chiffre chiffre\")\n",
    "                # Vérifier si l'identifiant est incrémenté correctement\n",
    "                current_id = int(parts[1])\n",
    "                if current_id != id_antenna + 1:\n",
    "                    ERROR(f\"L'identifiant de l'antenne dans le fichier '{filename}' n'est pas incrémenté correctement: {line.strip()}\")\n",
    "                id_antenna = current_id\n",
    "            elif parts[0] == 'ue':\n",
    "                # Vérifier le format des lignes ue\n",
    "                if len(parts) != 6:\n",
    "                    ERROR(f\"Le format de la ligne ue dans le fichier '{filename}' est incorrect. Il doit y avoir 6 colonnes : string chiffre string chiffre chiffre string\")\n",
    "                # Vérifier si l'identifiant est incrémenté correctement\n",
    "                current_id = int(parts[1])\n",
    "                if current_id != id_ue + 1:\n",
    "                    ERROR(f\"\"\"L'identifiant de l'UE dans le fichier '{filename}' n'est pas incrémenté correctement: {line.strip()}. \n",
    "                    Se rappeler que l'id commence a 0 et doit s'incrementer un a un par la suite.\"\"\")\n",
    "                id_ue = current_id\n",
    "            else:\n",
    "                ERROR(f\"La première colonne de la ligne n'est ni 'antenna' ni 'ue': {line.strip()} dans le fichier '{filename}'.\")\n",
    "\n",
    "# Exemple d'utilisation :\n",
    "filename = 'coords_lab2_eq7.txt'\n",
    "sanity_check_coordinates_file(filename)\n",
    "print(\"Les sanity checks ont été passés avec succès.\")\n"
   ]
  },
  {
   "cell_type": "code",
   "execution_count": 91,
   "metadata": {},
   "outputs": [
    {
     "name": "stdout",
     "output_type": "stream",
     "text": [
      "\n",
      "\n",
      "\n",
      "ERROR\n",
      "PROGRAM STOPPED!!!\n",
      "\n",
      "Le fichier visibdfdility_lab2_eq7.txt n'existe pas dans le repertoire courant.\n",
      "\n",
      "\texit code = 1\n",
      "\n",
      "\t\n",
      "\n"
     ]
    },
    {
     "ename": "SystemExit",
     "evalue": "1",
     "output_type": "error",
     "traceback": [
      "An exception has occurred, use %tb to see the full traceback.\n",
      "\u001b[0;31mSystemExit\u001b[0m\u001b[0;31m:\u001b[0m 1\n"
     ]
    }
   ],
   "source": [
    "import os\n",
    "def sanity_check_visibility_file(filename, nombre_ue):\n",
    "    # Vérifier si le fichier existe \n",
    "    if not os.path.exists(filename):\n",
    "        ERROR(f\"Le fichier {filename} n'existe pas dans le repertoire courant.\")\n",
    "    \n",
    "    with open(filename, 'r') as file:\n",
    "        lines = file.readlines()\n",
    "\n",
    "        # Vérifier s'il y a des lignes vides\n",
    "        if any(line.strip() == '' for line in lines):\n",
    "            ERROR(f\"Le fichier '{filename}' contient des lignes vides.\")\n",
    "\n",
    "        # Vérifier le bon nombre de colonnes et l'absence de répétitions de chiffres\n",
    "        first_digits_set = set()\n",
    "        for line in lines:\n",
    "            ue_numbers = line.strip().split()\n",
    "            if len(ue_numbers) != len(set(ue_numbers)):\n",
    "                ERROR(f\"Il y a des répétitions de id d'antenne dans une ligne du fichier '{filename}'.\")\n",
    "\n",
    "            if len(ue_numbers) < 2:\n",
    "                ERROR(f\"Chaque ligne du fichier '{filename}' doit contenir au moins deux chiffres (UE et antenne).\")\n",
    "\n",
    "            # Vérifier si le premier chiffre est différent des précédents\n",
    "            first_digit = ue_numbers[0]\n",
    "            if first_digit in first_digits_set:\n",
    "                ERROR(f\"\"\"Le premier chiffre de la ligne du fichier '{filename}' est en double : {first_digit}.\n",
    "                Le premier chiffre d'une ligne represente une UE et ne peut donc pas se retrouver sur une autre ligne.\"\"\")\n",
    "            first_digits_set.add(first_digit)\n",
    "\n",
    "        # Vérifier le nombre de lignes\n",
    "        ue_count = len(lines)\n",
    "        min_ue_count = 0.05 * nombre_ue\n",
    "        max_ue_count = 0.30 * nombre_ue\n",
    "        if ue_count < min_ue_count or ue_count > max_ue_count:\n",
    "            ERROR(f\"\"\"Le nombre de lignes ({ue_count}) dans le fichier '{filename}' n'est pas compris entre 5% et 30% du nombre d'UE spécifié ({nombre_ue}).\n",
    "            SVP, mettre un nombre de ligne entre {min_ue_count} et {max_ue_count} dans le fichier '{filename}'.\"\"\")\n",
    "\n",
    "\n",
    "\n",
    "# Exemple d'utilisation :\n",
    "filename = 'visibdfdility_lab2_eq7.txt'\n",
    "nombre_ue = 20  # Remplacer par le nombre réel d'UE\n",
    "result = sanity_check_visibility_file(filename, nombre_ue)\n",
    "print(\"Les sanity checks ont été passés avec succès.\" if result else \"Il y a des erreurs dans le fichier de visibilité.\")\n"
   ]
  },
  {
   "cell_type": "code",
   "execution_count": 25,
   "metadata": {},
   "outputs": [
    {
     "name": "stdout",
     "output_type": "stream",
     "text": [
      "25 25\n"
     ]
    }
   ],
   "source": [
    "etude_path_loss1 = get_from_dict(key=\"number\", data=data)\n",
    "etude_path_loss2 = get_from_dict(key=\"number\", data=data)\n",
    "print(etude_path_loss1,etude_path_loss2)"
   ]
  },
  {
   "cell_type": "code",
   "execution_count": 1,
   "metadata": {},
   "outputs": [],
   "source": [
    "import sys\n",
    "import math\n",
    "import yaml\n",
    "import random\n",
    "import os\n",
    "import argparse\n",
    "import matplotlib.pyplot as plt\n",
    "\n",
    "class Antenna:\n",
    "\n",
    "     def __init__(self, id):\n",
    "        self.id = id          #id de l'antenne (int)\n",
    "        self.frequency = None # Antenna frequency in GHz\n",
    "        self.height = None    # Antenna height\n",
    "        self.group = None     # group défini dans la base de données (str)\n",
    "        self.coords = None    # tuple contenant les coordonnées (x,y) \n",
    "        self.assoc_ues = []   # liste avec les id des UEs associés à l'antenne\n",
    "        self.scenario = None  # pathloss scénario tel que lu du fichier de cas (str)\n",
    "        self.gen = None       # type de géneration de coordonnées: 'g', 'a', etc. (str)\n",
    "\n",
    "    \n",
    "    \n",
    "class UE:\n",
    "\n",
    "     def __init__(self, id, app_name):\n",
    "        self.id= id           # id de l'UE (int)\n",
    "        self.height = None    # UE height\n",
    "        self.group = None     # group défini dans la base de données (str)\n",
    "        self.coords=None      # tuple contenant les coordonnées (x,y) \n",
    "        self.app=app_name     # nom de l'application qui tourne dans le UE (str)\n",
    "        self.assoc_ant=None   # id de l'antenne associée à l'UE (int)\n",
    "        self.los = True       # LoS ou non (bool)\n",
    "        self.gen = None       # type de géneration de coordonnées: 'g', 'a', etc. (str)\n",
    "\n",
    "class Pathloss:\n",
    "     def __init__(self, id_ue, id_ant):\n",
    "        self.id_ue = id_ue   # ID de l'ue\n",
    "        self.id_ant = id_ant # ID de l'antenne\n",
    "        self.value = None   # Valeur du pathloss\n",
    "\n",
    "\n",
    "# Fonction permettant d'afficher un message d'erreur et de stopper le programme\n",
    "def ERROR(msg , code = 1):\n",
    "    print(\"\\n\\n\\nERROR\\nPROGRAM STOPPED!!!\\n\")\n",
    "    if msg:\n",
    "        print(msg)\n",
    "    print(f\"\\n\\texit code = {code}\\n\\n\\t\\n\")\n",
    "    sys.exit(code)\n",
    "\n",
    "# Fonction calculant la distance entre deux point sur le terrain\n",
    "def calculate_distance(coord1, coord2):\n",
    "    x1, y1 = coord1\n",
    "    x2, y2 = coord2\n",
    "    return math.sqrt((x2 - x1)**2 + (y2 - y1)**2)\n",
    "    \n",
    "# Fonction donnant le group et les coords a partir du ID d'un objet dans une liste du meme objet\n",
    "def get_group_and_coords_by_id(object_list, target_id):\n",
    "    for object in object_list:\n",
    "        if object.id == target_id:\n",
    "            return object.group, object.coords\n",
    "    return None  \n",
    "\n",
    "def verify_okumura_conditions(fc,ht,hr, antenna_group, ue_group): \n",
    "    if fc > 1500 :\n",
    "        ERROR(f\"\"\"La fréquence {fc} MHz du groupe d'antenne '{antenna_group}' introduite dans le fichier de cas YAML est plus grande que 1.5 GHz. \n",
    "Le model okumura ne s'applique pas. \n",
    "Veuillez changer le groupe de l'antenne consideree dans le fichier YAML de cas ou modifier l'attribut 'frequency' du groupe {antenna_group} dans le fichier device_db.yaml\"\"\")\n",
    "    if fc < 150 :\n",
    "        ERROR(f\"\"\"La fréquence {fc} MHz du groupe d'antenne '{antenna_group}' introduite dans le fichier de cas YAML est plus petite que 0.15 GHz.\n",
    "Le model okumura ne s'applique pas. \n",
    "Veuillez changer le groupe de l'antenne consideree dans le fichier YAML de cas ou modifier l'attribut 'frequency' du groupe {antenna_group} dans le fichier device_db.yaml\"\"\")\n",
    "    if ht > 300 :\n",
    "        ERROR(f\"\"\"La hauteur {ht} metres du groupe d'antenne '{antenna_group}' introduite dans le fichier de cas YAML est plus grande que 300 metres. \n",
    "Le model okumura ne s'applique pas. \n",
    "Veuillez changer le groupe de l'antenne consideree dans le fichier YAML de cas ou modifier l'attribut 'height' du groupe {antenna_group} dans le fichier device_db.yaml\"\"\")\n",
    "    if ht < 30 : \n",
    "        ERROR(f\"\"\"La hauteur {ht} metres du groupe d'antenne '{antenna_group}' introduite dans le fichier de cas YAML est plus petite que 30 metres. \n",
    "Le model okumura ne s'applique pas.\n",
    "Veuillez changer le groupe de l'antenne consideree dans le fichier YAML de cas ou modifier l'attribut 'height' du groupe {antenna_group} dans le fichier device_db.yaml\"\"\")\n",
    "    if hr > 10 :\n",
    "        ERROR(f\"\"\"La hauteur {ht} metres du groupe d'UE '{ue_group}' introduite dans le fichier de cas YAML est plus grande que 10 metres. \n",
    "Le model okumura ne s'applique pas. \n",
    "Veuillez changer le groupe de l'ue consideree dans le fichier YAML de cas ou modifier l'attribut 'height' du groupe {ue_group} dans le fichier device_db.yaml\"\"\")\n",
    "    if hr < 1 : \n",
    "        ERROR(f\"\"\"La hauteur {ht} metres du groupe d'UE '{ue_group}' introduite dans le fichier de cas YAML est plus petite que 1 metres. \n",
    "Le model okumura ne s'applique pas. \n",
    "Veuillez changer le groupe de l'ue consideree dans le fichier YAML de cas ou modifier l'attribut 'height' du groupe {ue_group} dans le fichier device_db.yaml\"\"\")\n",
    "    return True\n",
    "\n",
    "\n",
    "\n",
    "def okumura(fichier_de_cas, fichier_de_device, antenna_id, ue_id, antennas, ues):\n",
    "    model = get_from_dict('model', fichier_de_cas)\n",
    "    scenario = get_from_dict('scenario', fichier_de_cas)\n",
    "    warning_message = \"\"\n",
    "    if model == \"okumura\" and scenario == \"urban_small\":\n",
    "        antenna_group, antenna_coords = get_group_and_coords_by_id(antennas, antenna_id)\n",
    "        ue_group, ue_coords = get_group_and_coords_by_id(ues, ue_id)\n",
    "        fc = 1000*get_from_dict('frequency', get_from_dict(antenna_group, get_from_dict(next(iter(fichier_de_device)), fichier_de_device)))\n",
    "        ht = get_from_dict('height', get_from_dict(antenna_group, get_from_dict(next(iter(fichier_de_device)), fichier_de_device)))\n",
    "        hr = get_from_dict('height', get_from_dict(ue_group,fichier_de_device))\n",
    "        verify_okumura_conditions(fc,ht,hr, antenna_group, ue_group)        \n",
    "        distance = calculate_distance(antenna_coords, ue_coords)\n",
    "        \n",
    "        A = (1.1 * math.log10(fc) - 0.7) * hr - 1.56 * math.log10(fc) + 0.8\n",
    "            \n",
    "        if distance < 1 :\n",
    "            warning_message = f\"\"\"WARNING : la distance entre l'UE {ue_id} et l'antenne {antenna_id} est plus petite que 1 km.\n",
    "Nous considerons un pathloss valant 0 entre ces deux equipements\\n\"\"\"\n",
    "            pathloss = 0\n",
    "        elif distance > 20 :\n",
    "            warning_message = f\"\"\"WARNING : la distance entre l'UE {ue_id} et l'antenne {antenna_id} est plus grande que 20 km.\n",
    "Nous considerons un pathloss valant INFINI entre ces deux equipements\\n\"\"\"            \n",
    "            pathloss = 1000000000000000000000000000000000000000000\n",
    "        else:\n",
    "            pathloss = 69.55 + 26.16 * math.log10(fc) - 13.82 * math.log10(ht) - A + (44.9 - 6.55 * math.log10(ht)) * math.log10(distance)\n",
    "        \n",
    "        return pathloss, warning_message, distance, ht, fc, hr, scenario\n",
    "    \n",
    "    if model == \"okumura\" and scenario == \"urban_large\":\n",
    "        antenna_group, antenna_coords = get_group_and_coords_by_id(antennas, antenna_id)\n",
    "        ue_group, ue_coords = get_group_and_coords_by_id(ues, ue_id)\n",
    "        fc = 1000*get_from_dict('frequency', get_from_dict(antenna_group, get_from_dict(next(iter(fichier_de_device)), fichier_de_device)))\n",
    "        ht = get_from_dict('height', get_from_dict(antenna_group, get_from_dict(next(iter(fichier_de_device)), fichier_de_device)))\n",
    "        hr = get_from_dict('height', get_from_dict(ue_group,fichier_de_device))\n",
    "        verify_okumura_conditions(fc,ht,hr, antenna_group, ue_group)\n",
    "        distance = calculate_distance(antenna_coords, ue_coords)\n",
    "        \n",
    "        if fc < 300:\n",
    "            A = 8.29 * (math.log10(1.54 * hr))**2 - 1.1\n",
    "        elif fc >= 300:\n",
    "            A = 3.2 * (math.log10(11.75 * hr))**2 - 4.97\n",
    "        \n",
    "        if distance < 1 :\n",
    "            warning_message = f\"\"\"WARNING : la distance entre l'UE {ue_id} et l'antenne {antenna_id} est plus petite que 1 km.\n",
    "Nous considerons un pathloss valant 0 entre ces deux equipements\\n\"\"\"\n",
    "            pathloss = 0\n",
    "        elif distance > 20 :\n",
    "            warning_message = f\"\"\"WARNING : la distance entre l'UE {ue_id} et l'antenne {antenna_id} est plus grande que 20 km.\n",
    "Nous considerons un pathloss valant INFINI entre ces deux equipements\\n\"\"\"            \n",
    "            pathloss = 1000000000000000000000000000000000000000000\n",
    "        else:       \n",
    "            pathloss = 69.55 + 26.16 * math.log10(fc) - 13.82 * math.log10(ht) - A + (44.9 - 6.55 * math.log10(ht)) * math.log10(distance)\n",
    "        \n",
    "        return pathloss, warning_message\n",
    "    \n",
    "    if model == \"okumura\" and scenario == \"suburban\":\n",
    "        antenna_group, antenna_coords = get_group_and_coords_by_id(antennas, antenna_id)\n",
    "        ue_group, ue_coords = get_group_and_coords_by_id(ues, ue_id)\n",
    "        fc = 1000*get_from_dict('frequency', get_from_dict(antenna_group, get_from_dict(next(iter(fichier_de_device)), fichier_de_device)))\n",
    "        ht = get_from_dict('height',get_from_dict(antenna_group, get_from_dict(next(iter(fichier_de_device)), fichier_de_device)))\n",
    "        hr = get_from_dict('height', get_from_dict(ue_group,fichier_de_device))\n",
    "        verify_okumura_conditions(fc,ht,hr, antenna_group, ue_group)\n",
    "        distance = calculate_distance(antenna_coords, ue_coords)\n",
    "        \n",
    "        A = (1.1 * math.log10(fc) - 0.7) * hr - 1.56 * math.log10(fc) + 0.8\n",
    "\n",
    "        if distance < 1 :\n",
    "            warning_message = f\"\"\"WARNING : la distance entre l'UE {ue_id} et l'antenne {antenna_id} est plus petite que 1 km.\n",
    "Nous considerons un pathloss valant 0 entre ces deux equipements\\n\"\"\"\n",
    "            pathloss = 0\n",
    "        elif distance > 20 :\n",
    "            warning_message = f\"\"\"WARNING : la distance entre l'UE {ue_id} et l'antenne {antenna_id} est plus grande que 20 km.\n",
    "Nous considerons un pathloss valant INFINI entre ces deux equipements\\n\"\"\"            \n",
    "            pathloss = 1000000000000000000000000000000000000000000\n",
    "        else:\n",
    "            pathloss_urban_small = 69.55 + 26.16 * math.log10(fc) - 13.82 * math.log10(ht) - A + (44.9 - 6.55 * math.log10(ht)) * math.log10(distance)\n",
    "            pathloss = pathloss_urban_small - 2 * (math.log10(fc / 28))**2 - 5.4\n",
    "        \n",
    "        return pathloss, warning_message, distance, ht, fc, hr, scenario\n",
    "    \n",
    "    if model == \"okumura\" and scenario == \"open\":\n",
    "        antenna_group, antenna_coords = get_group_and_coords_by_id(antennas, antenna_id)\n",
    "        ue_group, ue_coords = get_group_and_coords_by_id(ues, ue_id)\n",
    "        fc = 1000*get_from_dict('frequency', get_from_dict(antenna_group, get_from_dict(next(iter(fichier_de_device)), fichier_de_device)))\n",
    "        ht = get_from_dict('height', get_from_dict(antenna_group, get_from_dict(next(iter(fichier_de_device)), fichier_de_device)))\n",
    "        hr = get_from_dict('height', get_from_dict(ue_group,fichier_de_device))\n",
    "        verify_okumura_conditions(fc,ht,hr, antenna_group, ue_group)\n",
    "        distance = calculate_distance(antenna_coords, ue_coords)\n",
    "        \n",
    "        A = (1.1 * math.log10(fc) - 0.7) * hr - 1.56 * math.log10(fc) + 0.8\n",
    "        \n",
    "        if distance < 1 :\n",
    "            warning_message = f\"\"\"WARNING : la distance entre l'UE {ue_id} et l'antenne {antenna_id} est plus petite que 1 km.\n",
    "Nous considerons un pathloss valant 0 entre ces deux equipements\\n\"\"\"\n",
    "            pathloss = 0\n",
    "        elif distance > 20 :\n",
    "            warning_message = f\"\"\"WARNING : la distance entre l'UE {ue_id} et l'antenne {antenna_id} est plus grande que 20 km.\n",
    "Nous considerons un pathloss valant INFINI entre ces deux equipements\\n\"\"\"            \n",
    "            pathloss = 1000000000000000000000000000000000000000000\n",
    "        else:\n",
    "            pathloss_urban_small = 69.55 + 26.16 * math.log10(fc) - 13.82 * math.log10(ht) - A + (44.9 - 6.55 * math.log10(ht)) * math.log10(distance)\n",
    "            pathloss = pathloss_urban_small - 4.78 * (math.log10(fc))**2 + 18.33 * math.log10(fc) - 40.94\n",
    "\n",
    "        return pathloss, warning_message, distance, ht, fc, hr, scenario\n",
    "\n",
    "    # Si aucun cas n'est sélectionnee :\n",
    "    # FAIRE UN MESSAGE D'ERREUR CORRESPONDANT\n",
    "    ERROR(\"\"\"SVP, entrer un model et un scenario dans le fichier de cas YAML parmi les propositions suivantes (model,scenario) :\n",
    "           (model : okumura, scenario : urban_small)\n",
    "           (model : okumura, scenario : urban_large)\n",
    "           (model : okumura, scenario : suburban)\n",
    "           (model : okumura, scenario : open)\n",
    "          \"\"\")\n",
    "    return 0\n",
    "\n"
   ]
  },
  {
   "cell_type": "code",
   "execution_count": 2,
   "metadata": {},
   "outputs": [],
   "source": [
    "import yaml\n",
    "# Fonction permettant de lire un fichier YAML \n",
    "def read_yaml_file(fname):\n",
    "    # Fonction utilisée pour lire les fichiers de type .yaml\n",
    "    # fname: nom du fichier .yaml à lire\n",
    "    # le retour de la fonction est un dictionnaire avec toute l'information qui se trouve\n",
    "    # dans le fichier .yaml\n",
    "    # Si vous préférez vous pouvez utiliser une autre fonction pour lires les fichiers\n",
    "    # de type .yaml.\n",
    "    # À noter que dans cette fonction il faut ajouter les vérifications qui s'imposent\n",
    "    # par exemple, l'existance du fichier\n",
    "    \n",
    "    # Vérifier l'existence du fichier\n",
    "    if not os.path.exists(fname):\n",
    "        raise FileNotFoundError(f\"Le fichier {fname} n'existe pas.\")\n",
    "\n",
    "    # Ouvrir et lire le fichier YAML\n",
    "    with open(fname, 'r') as file:\n",
    "        return yaml.safe_load(file)\n"
   ]
  },
  {
   "cell_type": "code",
   "execution_count": 3,
   "metadata": {},
   "outputs": [
    {
     "name": "stdout",
     "output_type": "stream",
     "text": [
      "Cas RMa LoS :\n",
      "pathloss :  133.70410905705185\n",
      "Cas RMa NLoS :\n",
      "\n",
      "pathloss :  178.50771572276582\n",
      "Cas UMa LoS :\n",
      "\n",
      "pathloss :  134.72447166075284\n",
      "Cas UMa NLoS :\n",
      "\n",
      "pathloss :  175.19588828953368\n",
      "Cas UMi LoS :\n",
      "\n",
      "pathloss :  135.89915682039342\n",
      "Cas UMi NLoS :\n",
      "\n",
      "pathloss :  173.10059929412287\n"
     ]
    }
   ],
   "source": [
    "from pathloss_3gpp_eq7 import *\n",
    "import os\n",
    "fichier_de_cas = read_yaml_file(\"lab2_eq7_cas.yaml\")\n",
    "fichier_de_device = read_yaml_file(\"devices_db.yaml\")\n",
    "antennas = []\n",
    "ues = []\n",
    "antenna = Antenna(0)\n",
    "antenna.group = \"Antenna1\"\n",
    "antenna.coords = [83.0, 551.0]\n",
    "ue = UE(0,\"app1\")\n",
    "ue.group = \"UE1-App1\"\n",
    "ue.coords = [2500, 1142.8571]\n",
    "antennas.append(antenna)\n",
    "ues.append(ue)\n",
    "pathloss, warning_message = rma_los(fichier_de_cas, fichier_de_device, antenna.id, ue.id, antennas, ues)\n",
    "print(\"Cas RMa LoS :\")\n",
    "print(\"pathloss : \",pathloss)\n",
    "pathloss, warning_message = rma_nlos(fichier_de_cas, fichier_de_device, antenna.id, ue.id, antennas, ues)\n",
    "print(\"Cas RMa NLoS :\")\n",
    "print(warning_message)\n",
    "print(\"pathloss : \",pathloss)\n",
    "pathloss, warning_message = uma_los(fichier_de_cas, fichier_de_device, antenna.id, ue.id, antennas, ues)\n",
    "print(\"Cas UMa LoS :\")\n",
    "print(warning_message)\n",
    "print(\"pathloss : \",pathloss)\n",
    "pathloss, warning_message = uma_nlos(fichier_de_cas, fichier_de_device, antenna.id, ue.id, antennas, ues)\n",
    "print(\"Cas UMa NLoS :\")\n",
    "print(warning_message)\n",
    "print(\"pathloss : \",pathloss)\n",
    "pathloss, warning_message = umi_los(fichier_de_cas, fichier_de_device, antenna.id, ue.id, antennas, ues)\n",
    "print(\"Cas UMi LoS :\")\n",
    "print(warning_message)\n",
    "print(\"pathloss : \",pathloss)\n",
    "pathloss, warning_message = umi_nlos(fichier_de_cas, fichier_de_device, antenna.id, ue.id, antennas, ues)\n",
    "print(\"Cas UMi NLoS :\")\n",
    "print(warning_message)\n",
    "print(\"pathloss : \",pathloss)\n"
   ]
  },
  {
   "cell_type": "code",
   "execution_count": 14,
   "metadata": {},
   "outputs": [
    {
     "name": "stdout",
     "output_type": "stream",
     "text": [
      "Le nombre de lignes (4) n'est pas compris entre 5% et 30% du nombre d'UE spécifié (100).\n"
     ]
    }
   ],
   "source": []
  }
 ],
 "metadata": {
  "kernelspec": {
   "display_name": "Python 3",
   "language": "python",
   "name": "python3"
  },
  "language_info": {
   "codemirror_mode": {
    "name": "ipython",
    "version": 3
   },
   "file_extension": ".py",
   "mimetype": "text/x-python",
   "name": "python",
   "nbconvert_exporter": "python",
   "pygments_lexer": "ipython3",
   "version": "3.11.7"
  }
 },
 "nbformat": 4,
 "nbformat_minor": 2
}
