{
 "cells": [
  {
   "cell_type": "markdown",
   "id": "e8deb7a4",
   "metadata": {},
   "source": [
    "   # Laboratoire 3 ele8702 \n",
    "   ## Hiver 2024"
   ]
  },
  {
   "cell_type": "markdown",
   "id": "e32487da",
   "metadata": {},
   "source": [
    "## Introduction"
   ]
  },
  {
   "cell_type": "markdown",
   "id": "b99e0ba2",
   "metadata": {},
   "source": [
    "Ce Laboratoire est la continuation des Lab0 à Lab2. Donc, les objectifs demandés pour les laboratoires précédents doivent avoir été atteints avant d'entreprendre le Lab3. En particulier, votre programme doit être capable d'extraire les données des: fichier de cas, fichier de coordonnées, fichier de visbilité, base de données devices_db.yaml. En plus, il doit faire correctement les calcul de pathloss du 3GPP et les associations UEs-Antennes en considérant ce pathloss. \n",
    "\n",
    "Dans ce laboratoire nous allons étudier la transmission de l'information entre le UE actif et l'antenne à laquelle il est associé en tenant compte d'un profil de transmission de bits qui varie avec le temps. \n"
   ]
  },
  {
   "cell_type": "markdown",
   "id": "88d61232",
   "metadata": {},
   "source": [
    "## Énoncé du problème"
   ]
  },
  {
   "cell_type": "markdown",
   "id": "7e97bced",
   "metadata": {},
   "source": [
    "Nous avons, comme dans les laboratoire précédents, une région rectangulaire où sont placés les antennes et les UEs. Les coordonnées des antennes et des UEs sont **connues**. \n",
    "\n",
    "On va considérer qu'une fois que les UEs sont connectés aux antennes, chaque UE va transmettre de l'information à des intervalles de temps précis. Connaissant ces profils de transmission dans le temps ainsi que le débit de l'application associée à l'UE, on veut calculer le nombre de bits que chaque antenne va recevoir dans chaque intervalle de temps, le nombre de bits transmis par chaque UE et faire des statistiques par rapport à la transmission de l'information dans la période en étude.  \n",
    "\n"
   ]
  },
  {
   "cell_type": "markdown",
   "id": "916d9174",
   "metadata": {},
   "source": [
    "## Objectifs\n",
    "- Mettre en place un processus simplifié de transmission de l'information des UEs aux antennes \n",
    "    - Se familiariser avec les variations du trafic dans le temps\n",
    "    - Comprendre comment ce trafic dépend du type d'application associé à chaque UE\n",
    "    - Augmenter les capacités du programme développé dans les Lab1 et Lab2 \n",
    "\n",
    "        "
   ]
  },
  {
   "cell_type": "markdown",
   "id": "100ad38e",
   "metadata": {},
   "source": [
    "## Définitions\n",
    "\n",
    "- Voici une série de définitions pour faciliter la compréhension de la méthodologie\n",
    "\n",
    "    - **Segment de temps** : Il se réfère au trio de valeurs ue_id, ti, tf, où\n",
    "       - ue_id: id de l'ue\n",
    "       - ti: temps du début du segment\n",
    "       - tf: temps de fin du segment\n",
    "         \n",
    "    \n",
    "    - **Fichier du profil de trafic**: C'est le fichier des segments de temps, aussi appelé **fichier des segments**. Chaque ligne décrit le trio de valeurs qui forment un seul segment. \n",
    "    - **Slot (créneau)** : Plage de valeurs temporelles correspondant à un intervalle de valeur ```dt``` donné dans le fichier de cas.\n",
    "    - **Base de donnée des dispositifs**: fichier devices_db.yaml\n",
    "    - **Paquets**: Ensemble de bits consécutifs. La taille d'un paquet peut être variable.\n"
   ]
  },
  {
   "cell_type": "markdown",
   "id": "0d053ceb",
   "metadata": {},
   "source": [
    "## Méthodologie"
   ]
  },
  {
   "cell_type": "markdown",
   "id": "0a55e85b",
   "metadata": {},
   "source": [
    "1. En utilisant l'option de lecture (activée par le ```read```) de la section ```COORD_FILES``` du fichier de cas, vous allez lire les informations fournies par le fichier de coordonnées fourni ci-dessous."
   ]
  },
  {
   "cell_type": "markdown",
   "id": "2105f4d8",
   "metadata": {},
   "source": [
    "2. Dans l'exécution du programme, faire les associations entre antennes et\n",
    "      UES **en utilisant les formules du 3GPP**. Il est important de noter que les coordonnées des appareils ne doivent pas être régénérées.\n",
    "      Ces coordonnées doivent nécessairement être celles qui ont été lues à partir du fichier de coordonnées fourni dont le nom est donné dans le fichier de cas."
   ]
  },
  {
   "cell_type": "markdown",
   "id": "168e1580",
   "metadata": {},
   "source": [
    "3. Générer le trafic de \"paquets\" (nombre de bits consécutifs) produits par les\n",
    "      UEs. Voici la procédure:\n",
    "     "
   ]
  },
  {
   "cell_type": "markdown",
   "id": "533e18aa-8775-43e7-b8c9-a21e222979e5",
   "metadata": {},
   "source": [
    "- La simulation doit commencer au temps ```tstart```. Le programme avance dans le temps par intervalles de taille ```dt```. La simulation se termine lorsque le temps atteint la valeur ```tfinal```. Les trois valeurs, ```tstart, tfinal et dt``` DOIVENT ÊTRE LUES à partir du fichier de cas."
   ]
  },
  {
   "cell_type": "markdown",
   "id": "49ca657c",
   "metadata": {},
   "source": [
    "- Lorsque le temps actuel de simulation se retrouve dans le segment de temps spécifié dans le fichier de    segments, le UE de ce segment doit commencer à générer des bits (paquets) à un taux (débit) constant ```R``` qui est un attribut de l'UE dont la valeur est dans devices_db.yaml."
   ]
  },
  {
   "cell_type": "markdown",
   "id": "8a93e548",
   "metadata": {},
   "source": [
    "- Le nombre de bits générés par chaque UE dans une période de temps M est :\n",
    "     nbits = R * M\n",
    "  c'est-à-dire qu'on suppose que l'UE génère des bits à un débit constant, donné par R,\n",
    "  dans tout l'intervalle M."
   ]
  },
  {
   "cell_type": "markdown",
   "id": "33673c0d",
   "metadata": {},
   "source": [
    "- Chaque UE envoie les paquets générés à son antenne associée. Tel qu'indiqué ci-dessus, les valeurs de\n",
    "  pathloss à utiliser pour les associations sont celles qui correspondent aux formules du 3GPP. \n",
    "      "
   ]
  },
  {
   "cell_type": "markdown",
   "id": "1e49d610",
   "metadata": {},
   "source": [
    "**NOTE:** Le profil de transmission des UEs est lu du **fichier du profil de trafic** ```lab3_eqn_segments.txt``` . Chaque ligne de ce fichier montre un **segment de temps**. Pendant le temps de simulation, un même UE pourrait transmettre plusieurs fois, donc on peut avoir plusieurs segments de temps pour un même UE. Voici un example de quelques lignes du fichier de segments de temps:"
   ]
  },
  {
   "cell_type": "markdown",
   "id": "d38f6354",
   "metadata": {},
   "source": [
    "```\n",
    "\n",
    "38\t0.02320124769073284\t2.6204571144593416\n",
    "29\t0.07097370241738288\t0.11557512088516572\n",
    "6\t0.07494335945509745\t0.26484446522154836\n",
    "17\t0.14294164684073185\t6.635141344360623\n",
    "30\t0.1522305341490071\t4.434467566427676\n",
    "7\t0.2589907854888407\t0.46599778310082246\n",
    "42\t0.33608375451324\t2.588664691565386\n",
    "46\t0.343034594359517\t2.4935461368011143\n",
    "5\t0.3685270077280389\t2.787016323509879\n",
    "29\t0.4207695710427084\t0.9700198105952091\n",
    "```"
   ]
  },
  {
   "cell_type": "markdown",
   "id": "0cd70513",
   "metadata": {},
   "source": [
    "\n",
    "La première colonne montre le numéro de l'UE, la deuxième colonne montre le temps de début de transmission de donnees et la troixième colonne, le temps de fin de la transmission de donnees. Veuillez noter que dans les quelques lignes montrées ci-dessus, l'on peut voir que le UE 29 transmet dans deux segments de temps différents.\n"
   ]
  },
  {
   "cell_type": "markdown",
   "id": "a2c61190",
   "metadata": {},
   "source": [
    "### Données d'entrée\n",
    "- Voici les informations en relation aux fichiers d'entrées: \n",
    "\n",
    "    - **fichier de cas** (fichier ```lab3_eqn_cas.yaml```  (voir ci-dessous)):\n",
    "       - créé pour chaque cas en étude . Dans ce laboratoire on a ajouté une nouvelle section ```CLOCK``` qui donne les informations reliées au temps de la simulation     \n",
    "        \n",
    "    - **base de donnée des équipements** (fichier ```devices_db.yaml``` (voir ci-dessous)):\n",
    "       - elle est unique pour tous les cas d'étude. A noter que, **on  a ajouté une nouvelle entrée, R, specifiant le débit de transmission de donnees** de chaque UE \n",
    "       \n",
    "    - **fichier de visibilité** (fichier ```lab3_eqn_visibility.txt``` (voir ci-dessous)) (le nom est specifié dans le ```read``` de la section ```VISIBILITY``` du fichier de cas)\n",
    "       - ce fichier est donné ci-dessous, il est différent que celui que vous avez utilisé pour le Lab2.\n",
    "\n",
    "    - **fichier des coordonnées** ```lab3_eqn_coords.txt``` (voir ci-dessous)\n",
    "   \n",
    "    - **fichier de segments de temps** ```lab3_eqn_segments.txt``` (example donné ci-dessus)"
   ]
  },
  {
   "cell_type": "markdown",
   "id": "958a61db",
   "metadata": {},
   "source": [
    "### Fichier de cas d'entrée pour le Lab3"
   ]
  },
  {
   "cell_type": "markdown",
   "id": "32ddbe7d-d9f7-46a7-9c9e-f83267d3caea",
   "metadata": {},
   "source": [
    "On donne des exemples pour une équipe 15 hypothétique. "
   ]
  },
  {
   "cell_type": "markdown",
   "id": "ea0f27e6",
   "metadata": {},
   "source": [
    "```python\n",
    "--- # lab3_eq15_cas.yaml\n",
    "###############################################\n",
    "#                                             #\n",
    "#         Cas lab 3:                          #\n",
    "#            File: lab3_eq15_cas.yaml         #\n",
    "#            Description: Etude Transmisssion #\n",
    "#                                             #\n",
    "###############################################\n",
    "ETUDE_DE_TRANSMISSION:\n",
    "   PATHLOSS :\n",
    "       model : 3gpp\n",
    "       scenario : UMa\n",
    "   ANT_COORD_GEN : g\n",
    "   UE_COORD_GEN: a\n",
    "   COORD_FILES:  # Used when coordinates are read from a file \n",
    "      read: lab3_eq15_coords.txt\n",
    "      #write: coord_case1-ref-1.txt\n",
    "   DEVICES:\n",
    "      Antenna1 : # Group Antenna1 (As defined in the database)\n",
    "         number : 7\n",
    "      UE1-App1 : # Group UE1-App1 (As defined in the database)\n",
    "         number : 30\n",
    "      UE2-App2 : # Group UE2-App2 (As defined in the database)\n",
    "         number: 20\n",
    "   GEOMETRY:\n",
    "      Surface:\n",
    "         rectangle:\n",
    "           length : 5000\n",
    "           height : 4000\n",
    "   VISIBILITY: # read nlos information\n",
    "      read: lab3_eq15_visibility.txt\n",
    "   CLOCK : \n",
    "      tstart : 0.0\n",
    "      tfinal : 10.0 #ms \n",
    "      dt : 1.0      #ms \n",
    "      read : lab3_eq15_segments.txt\n",
    "      #write: time_segments_lab3.txt\n",
    "```"
   ]
  },
  {
   "cell_type": "markdown",
   "id": "12a000c3",
   "metadata": {},
   "source": [
    "Dans le fichier montré, les changements par rapport au Lab 2 sont les suivants. \n",
    "\n",
    "On se sert maintenant du champs:"
   ]
  },
  {
   "cell_type": "markdown",
   "id": "03c5095d",
   "metadata": {},
   "source": [
    "```python\n",
    " CLOCK:\n",
    "    tstart : 0.0  #ms donne le début du temps de simulation\n",
    "    tfinal : 10.0 #ms donne la fin du temps de simulation\n",
    "    dt : 1.0      #ms donne la longueur du slot de temps\n",
    "    read : lab3_eq15_segments.txt\n",
    "    #write: time_segments.txt\n",
    "     \n",
    "```"
   ]
  },
  {
   "cell_type": "markdown",
   "id": "d76ae7b5",
   "metadata": {},
   "source": [
    "### Fichier de base de données devices_db.yaml"
   ]
  },
  {
   "cell_type": "markdown",
   "id": "eb447fd5",
   "metadata": {},
   "source": [
    "```python\n",
    "ANTENNAS:\n",
    "  Antenna1:\n",
    "    type: antenna\n",
    "    name: Antenna1\n",
    "    height: 10\n",
    "    frequency:  28 #GHz\n",
    "    gain:  40\n",
    "#\n",
    "  Antenna2:\n",
    "    type: antenna\n",
    "    name: Antenna2\n",
    "    height: 35\n",
    "    frequency:  0.9 #GHz\n",
    "    gain:  45\n",
    "#\n",
    "  Antenna3:\n",
    "    type: antenna\n",
    "    name: Antenna1\n",
    "    height: 10\n",
    "    frequency:  28 #GHz\n",
    "    gain:  40\n",
    "#\n",
    "  Antenna4:\n",
    "    type: antenna\n",
    "    name: Antenna2\n",
    "    height: 35\n",
    "    frequency:  0.9 #GHz\n",
    "    gain:  45\n",
    " #\n",
    "   Antenna5:\n",
    "    type: antenna\n",
    "    name: Antenna5\n",
    "    height: 37\n",
    "    frequency:  0.250 #GHz\n",
    "    gain:  30 \n",
    "        \n",
    "#\n",
    "   Antenna6:\n",
    "    type: antenna\n",
    "    name: Antenna6\n",
    "    height: 20\n",
    "    frequency:  1.4 #GHz\n",
    "    gain:  30 \n",
    "        \n",
    "#\n",
    "   Antenna7:\n",
    "    type: antenna\n",
    "    name: Antenna7\n",
    "    height: 30\n",
    "    frequency:  3.2 #GHz\n",
    "    gain:  35 \n",
    "    \n",
    "UES:\n",
    "  UE1-App1:\n",
    "    type: ue\n",
    "    name: UE1-App1\n",
    "    app: app1\n",
    "    height:  1.5\n",
    "    R : 1000 #kbs\n",
    "\n",
    "  UE2-App2:\n",
    "    type: ue\n",
    "    name: UE2-App2\n",
    "    app: app2\n",
    "    height:  1.5\n",
    "    R : 5000 #kbs\n",
    "```"
   ]
  },
  {
   "cell_type": "markdown",
   "id": "505b5ef0",
   "metadata": {},
   "source": [
    "Dans le fichier de base de données ci-dessus la valeur de R représente le débit de l'application"
   ]
  },
  {
   "cell_type": "markdown",
   "id": "9601dfdb",
   "metadata": {},
   "source": [
    "### Fichier de visibilité, lab3_eq15_visibility.txt "
   ]
  },
  {
   "cell_type": "markdown",
   "id": "8552ab20",
   "metadata": {},
   "source": [
    "```python\n",
    "23 1 5 \n",
    "6 4 \n",
    "11 7 \n",
    "```"
   ]
  },
  {
   "cell_type": "markdown",
   "id": "2df524dc",
   "metadata": {},
   "source": [
    "### Fichier de coordonnées,  lab3_eq15_coords.txt"
   ]
  },
  {
   "cell_type": "markdown",
   "id": "aed45d2e",
   "metadata": {},
   "source": [
    "```python\n",
    "antenna\t0\tAntenna1\t1666.6666666666667\t800.0\n",
    "antenna\t1\tAntenna1\t3333.3333333333335\t800.0\n",
    "antenna\t2\tAntenna1\t1666.6666666666667\t1600.0\n",
    "antenna\t3\tAntenna1\t3333.3333333333335\t1600.0\n",
    "antenna\t4\tAntenna1\t1666.6666666666667\t2400.0\n",
    "antenna\t5\tAntenna1\t3333.3333333333335\t2400.0\n",
    "antenna\t6\tAntenna1\t2500.0\t            3200.0\n",
    "ue\t0\tUE1-App1\t4553.35006118933\t2376.961860173741\tapp1\n",
    "ue\t1\tUE1-App1\t3020.3256212053707\t1327.5289698498832\tapp1\n",
    "ue\t2\tUE1-App1\t3208.5568444877276\t2515.1061189859947\tapp1\n",
    "ue\t3\tUE1-App1\t884.0392098014821\t3248.588672651385\tapp1\n",
    "ue\t4\tUE1-App1\t1497.0102515307337\t1083.0850495327202\tapp1\n",
    "ue\t5\tUE1-App1\t3613.239860660173\t1012.1943929818702\tapp1\n",
    "ue\t6\tUE1-App1\t4528.82874907979\t3383.1383226611006\tapp1\n",
    "ue\t7\tUE1-App1\t1502.9084402142023\t3517.826363738442\tapp1\n",
    "ue\t8\tUE1-App1\t3320.028177511754\t1848.768149477978\tapp1\n",
    "ue\t9\tUE1-App1\t700.8285077009601\t1716.8580607946628\tapp1\n",
    "ue\t10\tUE1-App1\t745.1930082438968\t166.71500570068963\tapp1\n",
    "ue\t11\tUE1-App1\t3376.946945530802\t2087.9372242231166\tapp1\n",
    "ue\t12\tUE1-App1\t2798.2098667707937\t2997.9674045662623\tapp1\n",
    "ue\t13\tUE1-App1\t3054.588442356894\t3854.9566689721896\tapp1\n",
    "ue\t14\tUE1-App1\t883.9435118968014\t3286.387895445971\tapp1\n",
    "ue\t15\tUE1-App1\t3797.6196171031247\t1854.6607226239403\tapp1\n",
    "ue\t16\tUE1-App1\t1986.6584196533627\t122.23784716752206\tapp1\n",
    "ue\t17\tUE1-App1\t4066.136870392004\t3209.794786184445\tapp1\n",
    "ue\t18\tUE1-App1\t2271.601961975696\t833.5968118329604\tapp1\n",
    "ue\t19\tUE1-App1\t2687.6966498708334\t3390.1172136310006\tapp1\n",
    "ue\t20\tUE1-App1\t1027.382953550765\t95.26209914799688\tapp1\n",
    "ue\t21\tUE1-App1\t339.82909565909716\t1642.548039700626\tapp1\n",
    "ue\t22\tUE1-App1\t2089.9699009714136\t1324.5676329397388\tapp1\n",
    "ue\t23\tUE1-App1\t3440.139686801668\t1537.0364720055738\tapp1\n",
    "ue\t24\tUE1-App1\t3645.5496578821185\t361.13104238329277\tapp1\n",
    "ue\t25\tUE1-App1\t4764.20337177503\t1682.2091390331302\tapp1\n",
    "ue\t26\tUE1-App1\t1481.3030363599844\t168.78362651876787\tapp1\n",
    "ue\t27\tUE1-App1\t2451.439411721633\t2781.4127829070903\tapp1\n",
    "ue\t28\tUE1-App1\t3393.1534316766038\t2057.206279713829\tapp1\n",
    "ue\t29\tUE1-App1\t2763.5433403245484\t2851.0639142723403\tapp1\n",
    "ue\t30\tUE2-App2\t1450.2996780316541\t913.3665348344601\tapp2\n",
    "ue\t31\tUE2-App2\t2110.6034925459517\t2782.1218844862638\tapp2\n",
    "ue\t32\tUE2-App2\t75.741736992066\t    1602.7294487433653\tapp2\n",
    "ue\t33\tUE2-App2\t441.53848777406137\t2677.636291960965\tapp2\n",
    "ue\t34\tUE2-App2\t2063.269434378499\t1174.772263117211\tapp2\n",
    "ue\t35\tUE2-App2\t3766.929013279284\t320.94009811187885\tapp2\n",
    "ue\t36\tUE2-App2\t1061.0157952341708\t104.94971836648715\tapp2\n",
    "ue\t37\tUE2-App2\t15.064335740339608\t2270.803357455594\tapp2\n",
    "ue\t38\tUE2-App2\t2811.9108399050597\t2352.346402809519\tapp2\n",
    "ue\t39\tUE2-App2\t1422.716932645443\t818.5057251011627\tapp2\n",
    "ue\t40\tUE2-App2\t3030.73951940098\t2785.9293557016354\tapp2\n",
    "ue\t41\tUE2-App2\t2582.9000331504703\t779.8267389514319\tapp2\n",
    "ue\t42\tUE2-App2\t800.0675657648482\t3328.8145236508562\tapp2\n",
    "ue\t43\tUE2-App2\t2188.8993988526845\t2817.9753029739845\tapp2\n",
    "ue\t44\tUE2-App2\t1411.0201801353583\t2689.7785323710946\tapp2\n",
    "ue\t45\tUE2-App2\t4145.232142040808\t2182.8139986666147\tapp2\n",
    "ue\t46\tUE2-App2\t3190.7757743853667\t3505.357662007422\tapp2\n",
    "ue\t47\tUE2-App2\t3159.4763399762587\t338.02974655500907\tapp2\n",
    "ue\t48\tUE2-App2\t4176.322463962021\t433.61473748753986\tapp2\n",
    "ue\t49\tUE2-App2\t3644.7301518725876\t2032.8941564603417\tapp2\n",
    "```"
   ]
  },
  {
   "cell_type": "markdown",
   "id": "70031324",
   "metadata": {},
   "source": [
    "### Fichier du profil de trafic, lab3_eq15_segments.txt"
   ]
  },
  {
   "cell_type": "markdown",
   "id": "757276c5",
   "metadata": {},
   "source": [
    "```python\n",
    "38\t0.02320124769073284\t2.6204571144593416\n",
    "29\t0.07097370241738288\t0.11557512088516572\n",
    "6\t0.07494335945509745\t0.26484446522154836\n",
    "17\t0.14294164684073185\t6.635141344360623\n",
    "30\t0.1522305341490071\t4.434467566427676\n",
    "7\t0.2589907854888407\t0.46599778310082246\n",
    "42\t0.33608375451324\t2.588664691565386\n",
    "46\t0.343034594359517\t2.4935461368011143\n",
    "5\t0.3685270077280389\t2.787016323509879\n",
    "29\t0.4207695710427084\t0.9700198105952091\n",
    "20\t0.5328114145292284\t0.7284769366758743\n",
    "49\t0.542801465829158\t0.7790660527792418\n",
    "39\t0.6164696687289883\t1.7975292062091408\n",
    "19\t0.6621491955212622\t0.6699226808335007\n",
    "33\t0.7312492117356406\t1.1103167188938885\n",
    "7\t0.7663418917733389\t2.201362359028665\n",
    "16\t0.8817943477902579\t3.001456707963418\n",
    "10\t1.008438782788471\t4.188511495333321\n",
    "41\t1.08037920488686\t1.7800854333329412\n",
    "28\t1.3512693740619985\t5.693976143197798\n",
    "25\t1.4705068722741321\t2.3825676447876636\n",
    "9\t1.5951127227538653\t2.0533669471053786\n",
    "44\t1.7204817044437748\t1.7473975274101372\n",
    "33\t1.7298242328625257\t2.5391087616814945\n",
    "6\t1.76191563821663\t4.373431066984763\n",
    "37\t1.8818227583356961\t2.6512978857717546\n",
    "34\t1.917538511326966\t2.0862441494858905\n",
    "24\t2.12675135136412\t5.07784497068\n",
    "12\t2.353241369362328\t2.860678567530562\n",
    "8\t2.353966685906742\t3.8786735952760116\n",
    "34\t2.3542034104461584\t6.761316387779404\n",
    "3\t2.3871676542087252\t3.176117250487828\n",
    "21\t2.821225399171862\t3.6042393905641297\n",
    "39\t2.9050456529881776\t3.2088297562262413\n",
    "47\t2.952441277859249\t3.183867443657134\n",
    "0\t2.99852986704796\t5.389429584345146\n",
    "31\t3.0844924859531178\t3.544154041068303\n",
    "1\t3.1624388630822517\t4.329920017597157\n",
    "45\t3.1795015916467495\t3.8440707620088186\n",
    "16\t3.191431405739552\t4.31725415543795\n",
    "15\t3.2100216918719626\t5.18004238228851\n",
    "9\t3.2966428420964022\t4.442709112726659\n",
    "36\t3.326110926415826\t3.8732708471143917\n",
    "2\t3.355707055573661\t4.205322855038938\n",
    "44\t3.5818972182660325\t4.7622983565901205\n",
    "26\t3.624813844060033\t6.706464975467707\n",
    "3\t3.6253715965711075\t7.7045285937057395\n",
    "8\t3.8863378306338845\t4.0393494479984415\n",
    "22\t3.9138988378711446\t4.3582223777067295\n",
    "21\t3.917857328359853\t4.969313992241702\n",
    "29\t3.9434787932490636\t5.091389824458277\n",
    "42\t3.9893984321324027\t4.268208521302496\n",
    "46\t4.115204507610027\t4.155177850314281\n",
    "18\t4.1371620058079674\t5.029708928608187\n",
    "2\t4.387176571083788\t4.988293298228423\n",
    "32\t4.49284647337066\t4.947428411951336\n",
    "13\t4.493846936916228\t5.568763168575087\n",
    "49\t4.679251394292725\t8.770985655139697\n",
    "22\t4.773327242203464\t6.85415965437986\n",
    "27\t5.0764495786834924\t7.0450977047024645\n",
    "2\t5.140626019065122\t5.677048920629533\n",
    "39\t5.242921760692884\t5.360908360818274\n",
    "10\t5.245058359985569\t10.0\n",
    "40\t5.46464452810681\t6.126440831893523\n",
    "12\t5.48339170707144\t6.126225847154957\n",
    "48\t5.755324954171799\t5.786069169547211\n",
    "38\t5.7848561921760595\t8.26951647047042\n",
    "37\t5.795938121062533\t7.457295900658535\n",
    "41\t5.827300948555612\t6.948351074996333\n",
    "4\t5.955538518017546\t5.999638736025487\n",
    "23\t5.974070627032519\t7.259064941390771\n",
    "35\t6.085988524826751\t6.8830870439867535\n",
    "9\t6.169743850644524\t9.778973940139842\n",
    "14\t6.173292306925089\t10.0\n",
    "11\t6.232385759756379\t6.673794727427022\n",
    "39\t6.24650035692224\t6.253405641519398\n",
    "33\t6.451948612615501\t9.139360550958312\n",
    "18\t6.472287734788749\t7.276277558287547\n",
    "19\t6.62863060591706\t10.0\n",
    "44\t6.69329694374888\t7.9740934275478335\n",
    "45\t6.739312751040648\t10.0\n",
    "42\t6.7549796023617645\t7.1379571974241856\n",
    "47\t6.771065987280074\t9.308862597542866\n",
    "4\t6.928142020190795\t10.0\n",
    "39\t6.957746708876046\t7.076347224844649\n",
    "7\t7.164001907393748\t10.0\n",
    "17\t7.190765658829589\t9.510560592952851\n",
    "48\t7.450096074960441\t8.406791571357763\n",
    "13\t7.64747701415069\t10.0\n",
    "41\t7.745566716347031\t10.0\n",
    "42\t7.903409345892412\t8.98067214043728\n",
    "28\t8.038284703892888\t10.0\n",
    "36\t8.083323425567269\t10.0\n",
    "37\t8.164415732572689\t8.239540215686587\n",
    "37\t8.270270288246573\t9.623228369654555\n",
    "43\t8.365359093234648\t8.671613191612854\n",
    "6\t8.46716620649698\t8.511480203533143\n",
    "22\t8.59764735754425\t9.344770215200185\n",
    "34\t8.599200315518123\t9.460461226310057\n",
    "1\t8.87611537707372\t9.636451138136563\n",
    "15\t8.897472168454689\t10.0\n",
    "30\t8.94708749431286\t10.0\n",
    "31\t9.079594819327339\t10.0\n",
    "29\t9.120025456747257\t9.402451285977955\n",
    "11\t9.142018166863611\t9.34593290052279\n",
    "42\t9.169679957734767\t9.47318138177813\n",
    "8\t9.420530354264736\t10.0\n",
    "38\t9.454729962029562\t9.940050191393592\n",
    "2\t9.839236305118176\t10.0\n",
    "```"
   ]
  },
  {
   "cell_type": "markdown",
   "id": "54c61283",
   "metadata": {},
   "source": [
    "## Livrables"
   ]
  },
  {
   "cell_type": "markdown",
   "id": "c02c2288",
   "metadata": {},
   "source": [
    "1. Le livrable principale de ce Laboratoire est **le programme python** qui doit être capable de:\n",
    "      - Lire tous les fichiers d'entrées\n",
    "      - Réaliser toutes les tâches demandées au Lab2\n",
    "      - Montrer pour chaque antenne et chaque slot de temps, le nombre de bits recus par l'antenne\n",
    "      - Montrer pour chaque UE le nombre de bits envoyés à l'antenne sur chaque slot de temps.\n",
    "      "
   ]
  },
  {
   "cell_type": "markdown",
   "id": "54d4f392-b8e4-46fd-a11f-f84c93fbe7be",
   "metadata": {},
   "source": [
    "Ce programme doit obligatoirement démarrer, sans erreurs, à partir du terminal (CLI) avec l'instruction:<br>\n",
    "```python lab3_eqn.py fichier_de_cas.yaml``` <br>\n",
    "où <br>```fichier_de_cas.yaml``` est le nom d'un fichier de cas valide. Par contre, le nom du fichier de cas utilisé pour obtenir vos livrables ci dessous doit être ```lab3_eqn_cas.yaml```."
   ]
  },
  {
   "cell_type": "markdown",
   "id": "0b71fe14",
   "metadata": {},
   "source": [
    "2. Le module python qui fait les calculs de pathloss du 3GPP. Veillez l'appeler ```pathloss_3gpp_eqn.py```"
   ]
  },
  {
   "cell_type": "markdown",
   "id": "cc5fc188",
   "metadata": {},
   "source": [
    "3. En suivant les indication du fichier de cas fourni ci-dessus (section Données d'entrée), vous devez fournir les livrables suivants:\n",
    "\n",
    "    - le fichier de cas utilisé, appelé ```lab3_eqn_cas.yaml```\n",
    "    - le fichier de coordonnées, appelé ```lab3_eqn_coords.txt``` (voir format dans section méthodologie)\n",
    "    - le fichier de visibilité, appelé ```lab3_eqn_visibility.txt``` (voir format dans exemple ci-dessus)\n",
    "    - un fichier d'association, appelé ```lab3_eqn_assoc_ant.txt``` qui montre pour chaque antenne, la liste des UEs associées (voir format dans livrables Lab1)\n",
    "    - un fichier d'association, appelé ```lab3_eqn_assoc_ue.txt``` qui montre pour chaque UE, l'antenne associé (voir format dans livrables Lab2)\n",
    "    - le fichier de pathloss, appelé ```lab3_eqn_pl.txt```  qui montre le pathloss pour chaque UE et antenne  (voir format dans livrables Lab1)\n",
    "    "
   ]
  },
  {
   "cell_type": "code",
   "execution_count": null,
   "id": "f341b181-33dd-4395-9fed-0fa8b663a366",
   "metadata": {},
   "outputs": [],
   "source": [
    "La sortie du fichier de pathloss doit suivre le format suivant:"
   ]
  },
  {
   "cell_type": "markdown",
   "id": "899c16bb-2137-4593-9cda-14e95002ea67",
   "metadata": {},
   "source": [
    "```python       .\n",
    "                .\n",
    "                .\n",
    "                .\n",
    "0    21    136.23413791338908    3gpp    uma     los\n",
    "0    22    140.53336631359366    3gpp    uma     nlos\n",
    "0    23    144.1946635361489     3gpp     uma     los\n",
    "0    24    147.26220692687684   3gpp     uma     los\n",
    "1    0    147.37758299886258    3gpp     uma     los\n",
    "1    1    145.1453323273901      3gpp     uma     los\n",
    "1    2    143.06428369505159    3gpp     uma     los\n",
    "1    3    141.55139566627122    3gpp     uma     nlos\n",
    "1    4    141.11628892983626    3gpp     uma     los\n",
    "                .\n",
    "                .\n",
    "                .\n",
    "                .\n",
    "                .\n",
    "```"
   ]
  },
  {
   "cell_type": "markdown",
   "id": "7edebed2-8751-4b64-956b-ad55422253c2",
   "metadata": {},
   "source": [
    "**Remarquer la présence de la dernière colonne spécifiant la visibilité (los ou nlos)**"
   ]
  },
  {
   "cell_type": "markdown",
   "id": "8c432089",
   "metadata": {},
   "source": [
    "4. Les fichiers de transmission vu par l'antenne \n",
    "\n",
    "- le fichier ```lab3_eqn_transmission_ant.txt``` doit avoir le format suivant:\n",
    "    \n",
    "     - Tout d'abord le id de l'antenne doit apparaître seul sur une ligne. Ensuite, sur chaque autre ligne on aura des informations par slot de temps sui se réfèrent à l'antenne. Le début de la ligne montre le début du slot de temps considéré. Ensuite il y aura un séparateur ```:``` et tout de suite après le nombre total de bits envoyés par l'antenne pendant ce slot de temps ainsi que les UEs qui produisent ces bits. \n",
    "    \n",
    "     - L'exemple ci dessous se lis comme suit:  l'antenne 0, a reçu 320 bits  des UEs 10, 14 et 25 pendant le slot qui débute à 0.0 ms. Elle a également reçu 790 bits de l'UE 5 dans le slot qui débute à 1.0 ms et 1000 bits de l'UE 30 dans le slot qui débute à 9.0 ms. \n",
    "      \n",
    "     - Toutes les antennes et tous les slots de temps doivent être présents dans le fichier, même si l'antenne n'a pas reçu de bits.\n",
    "     \n",
    "     - Les informations doivent être consécutives par numéro d'antenne et par slot de temps. C-à-d, l'on donne les informations par nombre croissant et consécutif du numéro de l'antenne et, pour chaque antenne, par ordre croissant et consécutif de slot de temps, tel que montré dans l'exemple. "
   ]
  },
  {
   "cell_type": "markdown",
   "id": "05c17336",
   "metadata": {},
   "source": [
    "```python\n",
    "0\n",
    "0.0 : 320 10 14 25\n",
    "1.0 : 790 5 20\n",
    " .\n",
    " .\n",
    "9.0: 1000 30\n",
    "1\n",
    "0.0 :\n",
    "1.0 : 514 22 18\n",
    " .\n",
    " .\n",
    "9.0 :\n",
    "2\n",
    "0.0 :\n",
    " .\n",
    " .\n",
    " .\n",
    "```"
   ]
  },
  {
   "cell_type": "markdown",
   "id": "b5184919",
   "metadata": {},
   "source": [
    "5. Les fichiers de transmission des UEs   \n",
    "\n",
    "- les fichiers ```lab3_eqn_transmission_ue.txt``` doit avoir le format suivant: \n",
    "   \n",
    "     - Le numéro de l'UE doit être seul sur une ligne, suivi de lignes où apparaissent les slots de temps et les bits envoyés par le UE dans ce slot.\n",
    "     - Par exemple, ci-dessous, l'on montre  le UE 0 qui envoit 70, 230, 400 et 87 bits dans le slots débutant à 0.0, 1.0, 2.0 et 6.0 msec, respectivement.\n",
    "     - Tous les UEs et tous les slots de temps doivent être présents, même si le UE n'a pas envoyé de bits.\n",
    "      - Les informations doivent être consécutives par numéro de UE et par slot de temps. C-à-d, l'on donne les informations par nombre croissant et consécutif du numéro de UE et, pour chaque UE, par ordre croissant et consécutif de slot de temps, tel que montré dans l'exemple."
   ]
  },
  {
   "cell_type": "markdown",
   "id": "b4f746d9",
   "metadata": {},
   "source": [
    "```\n",
    "0\n",
    "0.0 70\n",
    "1.0 230\n",
    "2.0 400\n",
    "3.0\n",
    "4.0\n",
    "5.0\n",
    "6.0 87\n",
    "7.0 \n",
    "8.0\n",
    "9.0\n",
    "1\n",
    "0.0 400\n",
    ".\n",
    ".\n",
    ".\n",
    "9.0 500\n",
    "2\n",
    ".\n",
    ".\n",
    ".\n",
    "```"
   ]
  },
  {
   "cell_type": "markdown",
   "id": "9a1b7aff",
   "metadata": {},
   "source": [
    "6. De graphiques de statistiques que vous considérez intéressants (à mettre dans le Notebook), mais, attention! **Respectez toujours la contrainte d'interface donnée ci-dessus**. \n"
   ]
  },
  {
   "cell_type": "markdown",
   "id": "9de3e747",
   "metadata": {},
   "source": [
    "## Barême d'évaluation"
   ]
  },
  {
   "cell_type": "code",
   "execution_count": null,
   "id": "496494c3-b1c3-4735-8450-270ffbb8b592",
   "metadata": {},
   "outputs": [],
   "source": [
    "1. Structure du programme (25%)\n",
    "\t\t\t\n",
    "2. Robustesse du programme (30%)\t\n",
    "\t\n",
    "3. Résultats (30%)\n",
    "\t\t\n",
    "4. Suivi des consignes (15%)\n",
    "\t\n",
    "**Pénalités:**\n",
    "\n",
    "a) le programme ne demarre pas quand on utilise la commande CLI indiquée (voir lab1): -40 points\n",
    "\n",
    "b) la formule de 3GPP est erronée: -30 points\n",
    "\n",
    "c) fichiers manquants dans les livrables: -20 points par fichier\n",
    "\n",
    "d) nom de fichiers (remis ou de sortie) erronés:  -20 points par fichier\n",
    "\n",
    "e) format de fichiers non conformes: -20 points par non-conformité\n",
    "\n",
    "e) Rétards: -20 points la même journée, -10 points par jour additionnel\n",
    "\n"
   ]
  },
  {
   "cell_type": "markdown",
   "id": "21cd1c82",
   "metadata": {},
   "source": [
    "## Notes:"
   ]
  },
  {
   "cell_type": "markdown",
   "id": "1abdd91b-5234-476a-9875-da227ea5890c",
   "metadata": {},
   "source": [
    "Toutes les directives applicables aux labos précedents sont toujours valides à moins d'avis contraire dans ce labo."
   ]
  },
  {
   "cell_type": "markdown",
   "id": "6e169a53",
   "metadata": {},
   "source": [
    "1. Les valeurs\n",
    "```\n",
    "he = 1.0\n",
    "c = 300000000.0\n",
    "W = 20.0\n",
    "h = 5.0\n",
    "```\n",
    "utilisés dans les calculs des formules de pathloss 3gpp sont les seules valeurs qui peuvent être assignées (\"hard-wired\") dans le programme source."
   ]
  },
  {
   "cell_type": "markdown",
   "id": "6a115a4f",
   "metadata": {},
   "source": [
    "2. Votre programme sera testé avec vos fichiers d'entrées et aussi avec d'autres fichiers choisis par le correcteur. Toutes les valeurs d'entrée pourront être changées."
   ]
  },
  {
   "cell_type": "markdown",
   "id": "ef46a1c2",
   "metadata": {},
   "source": [
    "3. Assigner  les ID numériques des dispositifs de façon contigue à partir de 0 "
   ]
  },
  {
   "cell_type": "markdown",
   "id": "04cd9d60-4914-4dec-bb88-1d4450742eaf",
   "metadata": {},
   "source": [
    "4. Utiliser la même structure que le dernier laboratoire pour l'appel du programme principal:"
   ]
  },
  {
   "cell_type": "markdown",
   "id": "5c13e991-5d48-480c-bfff-7fbd489949f1",
   "metadata": {},
   "source": [
    "```python \n",
    "    .\n",
    "    .\n",
    "    .\n",
    "def main(arg):\n",
    "    # arg contient le nom du fihier de cas\n",
    "    .\n",
    "    .\n",
    "    \n",
    "if __name__ == '__main__':\n",
    "    # sys.argv est une liste qui contient les arguments utilisés lors de l'appel \n",
    "    # du programme à partir du CLI. Cette liste est créée automatiquement par Python. Vous devez \n",
    "    # juste inscrire l'argument tel que montré ci-dessous.\n",
    "    main(sys.argv[1:])\n",
    "```"
   ]
  }
 ],
 "metadata": {
  "kernelspec": {
   "display_name": "Python 3 (ipykernel)",
   "language": "python",
   "name": "python3"
  },
  "language_info": {
   "codemirror_mode": {
    "name": "ipython",
    "version": 3
   },
   "file_extension": ".py",
   "mimetype": "text/x-python",
   "name": "python",
   "nbconvert_exporter": "python",
   "pygments_lexer": "ipython3",
   "version": "3.9.18"
  }
 },
 "nbformat": 4,
 "nbformat_minor": 5
}
